{
 "cells": [
  {
   "cell_type": "markdown",
   "metadata": {},
   "source": [
    "# Random Account Pod Redeployment\n",
    "\n",
    "This experiment runs a kubernetes setup where the account pod is migrated randomly to new locations. Configured to return EU and international country codes as deployment geolocation."
   ]
  },
  {
   "cell_type": "code",
   "execution_count": 6,
   "metadata": {},
   "outputs": [
    {
     "name": "stdout",
     "output_type": "stream",
     "text": [
      "Kubernetes directory variable not set.\n"
     ]
    }
   ],
   "source": [
    "%%bash\n",
    "\n",
    "BASE_DIR=$(cd \"$(dirname \"$0\")\"; pwd)\n",
    "\n",
    "if [ -f $BASE_DIR/config ] ; then\n",
    "        . $BASE_DIR/config\n",
    "else\n",
    "        echo \"Missing configuration\"\n",
    "        exit 1\n",
    "fi\n",
    "\n",
    ". $BASE_DIR/common-functions.sh\n",
    "\n",
    "# check setup\n",
    "checkExecutable Collector \"$COLLECTOR\"\n",
    "\n",
    "# check workload runner\n",
    "checkExecutable \"Workload runner\" \"$WORKLOAD_RUNNER\"\n",
    "\n",
    "# check workload model\n",
    "checkFile \"Workload configuration\" $WORKLOAD_CONFIGURATION\n",
    "\n",
    "# check for directories\n",
    "checkDirectory \"Data\" $DATA_DIR\n",
    "checkDirectory \"Database\" $DB_DIR\n",
    "checkDirectory \"Result\" $RESULT_DIR\n",
    "checkDirectory \"Fixed data\" $FIXED_DIR\n",
    "checkDirectory \"PCM\" $PCM_DIR\n",
    "checkDirectory \"Kubernetes\" $KUBERNETES_DIR\n"
   ]
  },
  {
   "cell_type": "code",
   "execution_count": null,
   "metadata": {},
   "outputs": [],
   "source": []
  }
 ],
 "metadata": {
  "kernelspec": {
   "display_name": "Python 3",
   "language": "python",
   "name": "python3"
  },
  "language_info": {
   "codemirror_mode": {
    "name": "ipython",
    "version": 3
   },
   "file_extension": ".py",
   "mimetype": "text/x-python",
   "name": "python",
   "nbconvert_exporter": "python",
   "pygments_lexer": "ipython3",
   "version": "3.6.5"
  }
 },
 "nbformat": 4,
 "nbformat_minor": 2
}
