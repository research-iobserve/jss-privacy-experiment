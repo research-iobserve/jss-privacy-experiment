{
 "cells": [
  {
   "cell_type": "markdown",
   "metadata": {},
   "source": [
    "# JSS Performance Evaluation\n",
    "\n",
    "We collect data from N runs processing 100 deployment changes moving the accounting node between Germany and the USA.\n",
    "\n",
    "Initially, we read the (test) data frame containing values for\n",
    " * total time between incoming event (this should be also measuring time) and reconfiguration of probes\n",
    " * model update includes code to model level mapping and actual PCM model update\n",
    " * privacy update is the complete time necessary to recomupte the privacy properties\n",
    " * configuration time is the time used to take the privacy result, compute probe configuration and probe reconfiguration."
   ]
  },
  {
   "cell_type": "code",
   "execution_count": 24,
   "metadata": {},
   "outputs": [
    {
     "data": {
      "text/html": [
       "<table>\n",
       "<thead><tr><th scope=col>date</th><th scope=col>configuration.time</th><th scope=col>model.update</th><th scope=col>reaction.time</th><th scope=col>privacy.update</th><th scope=col>total.processing</th></tr></thead>\n",
       "<tbody>\n",
       "\t<tr><td>           0</td><td> 8305666    </td><td> 1799813    </td><td>13963535    </td><td>13200025    </td><td>13934522    </td></tr>\n",
       "\t<tr><td>166667207690</td><td> 1919639    </td><td>  250090    </td><td> 3143789    </td><td> 2953796    </td><td> 3137104    </td></tr>\n",
       "\t<tr><td>264660969415</td><td> 1532478    </td><td>  323792    </td><td> 2611405    </td><td> 2385057    </td><td> 2602089    </td></tr>\n",
       "\t<tr><td>184469796349</td><td> 1570376    </td><td>  270899    </td><td> 2545727    </td><td> 2331983    </td><td> 2538234    </td></tr>\n",
       "\t<tr><td> 77360826687</td><td> 2283188    </td><td>  226827    </td><td> 3513635    </td><td> 3371900    </td><td> 3490048    </td></tr>\n",
       "\t<tr><td> 26856761911</td><td> 3745337    </td><td>  353350    </td><td> 5653685    </td><td> 5624904    </td><td> 5644199    </td></tr>\n",
       "\t<tr><td>225835185541</td><td> 1666723    </td><td>  378632    </td><td> 2967911    </td><td> 2628706    </td><td> 2958904    </td></tr>\n",
       "\t<tr><td> 23886981761</td><td> 8505249    </td><td>  457047    </td><td>10631133    </td><td>10294582    </td><td>10516239    </td></tr>\n",
       "\t<tr><td> 92284719715</td><td> 2071736    </td><td>  404650    </td><td> 3842604    </td><td> 3509952    </td><td> 3832500    </td></tr>\n",
       "\t<tr><td>214007531124</td><td> 1744115    </td><td>  336090    </td><td> 3031946    </td><td> 2725655    </td><td> 3023792    </td></tr>\n",
       "\t<tr><td>196226535911</td><td> 1986194    </td><td>  368605    </td><td> 3350262    </td><td> 3047818    </td><td> 3342705    </td></tr>\n",
       "\t<tr><td> 56562095743</td><td> 4515154    </td><td>  956377    </td><td> 7795560    </td><td> 7418995    </td><td> 7769897    </td></tr>\n",
       "\t<tr><td>146005083911</td><td> 1267728    </td><td>  245062    </td><td> 2372670    </td><td> 2176607    </td><td> 2363996    </td></tr>\n",
       "\t<tr><td>243697808620</td><td> 1952758    </td><td>  333125    </td><td> 3183840    </td><td> 2917697    </td><td> 3175529    </td></tr>\n",
       "\t<tr><td>252825552857</td><td> 1473740    </td><td>  192616    </td><td> 2369483    </td><td> 2268023    </td><td> 2363093    </td></tr>\n",
       "\t<tr><td>122246870681</td><td> 2238437    </td><td>  231014    </td><td> 3309945    </td><td> 3202560    </td><td> 3301742    </td></tr>\n",
       "\t<tr><td>  -758575997</td><td>10143768    </td><td>57561636    </td><td>77430014    </td><td>19771665    </td><td>77408406    </td></tr>\n",
       "\t<tr><td> 20937026901</td><td> 3290222    </td><td>  295717    </td><td> 5296268    </td><td> 5287563    </td><td> 5282378    </td></tr>\n",
       "\t<tr><td>172579196627</td><td> 1106470    </td><td>  234451    </td><td> 2134829    </td><td> 1898767    </td><td> 2128629    </td></tr>\n",
       "\t<tr><td> 71537329331</td><td> 1952973    </td><td>  593828    </td><td> 3939678    </td><td> 3548751    </td><td> 3923844    </td></tr>\n",
       "\t<tr><td>234798834822</td><td> 1439824    </td><td>  199643    </td><td> 2382928    </td><td> 2292482    </td><td> 2371419    </td></tr>\n",
       "\t<tr><td> 68664123143</td><td> 7402452    </td><td>  227385    </td><td> 9955270    </td><td>10319285    </td><td> 9947340    </td></tr>\n",
       "\t<tr><td> 98228616068</td><td> 2098060    </td><td>  322797    </td><td> 3721846    </td><td> 3602509    </td><td> 3712529    </td></tr>\n",
       "\t<tr><td> 32877740247</td><td> 3130813    </td><td>  444618    </td><td> 5102803    </td><td> 4917491    </td><td> 5093635    </td></tr>\n",
       "\t<tr><td> 38841544254</td><td> 5276484    </td><td>  594166    </td><td> 9282544    </td><td> 8947741    </td><td> 9271264    </td></tr>\n",
       "\t<tr><td>249649788384</td><td> 1871137    </td><td>  348643    </td><td> 3179484    </td><td> 2922205    </td><td> 3170643    </td></tr>\n",
       "\t<tr><td>175547827403</td><td> 1416764    </td><td>  251138    </td><td> 2399163    </td><td> 2201486    </td><td> 2393310    </td></tr>\n",
       "\t<tr><td>240664972782</td><td> 1420887    </td><td>  283121    </td><td> 2438155    </td><td> 2266411    </td><td> 2430471    </td></tr>\n",
       "\t<tr><td>140055457079</td><td> 2601832    </td><td>  303904    </td><td> 4042158    </td><td> 3904017    </td><td> 4034377    </td></tr>\n",
       "\t<tr><td>199207228176</td><td> 1586533    </td><td>  469871    </td><td> 3173231    </td><td> 2791387    </td><td> 3157350    </td></tr>\n",
       "\t<tr><td>⋮</td><td>⋮</td><td>⋮</td><td>⋮</td><td>⋮</td><td>⋮</td></tr>\n",
       "\t<tr><td>267678722644</td><td> 1593950    </td><td> 415473     </td><td> 3229065    </td><td> 2822046    </td><td> 3220846    </td></tr>\n",
       "\t<tr><td>  9131869400</td><td> 6189343    </td><td> 322539     </td><td>11740765    </td><td>12114085    </td><td>11726954    </td></tr>\n",
       "\t<tr><td> 15038620565</td><td>11724393    </td><td> 625854     </td><td>14860378    </td><td>14579169    </td><td>14840610    </td></tr>\n",
       "\t<tr><td>128222608842</td><td> 1145420    </td><td> 253261     </td><td> 2402382    </td><td> 2190830    </td><td> 2394555    </td></tr>\n",
       "\t<tr><td> 80352537133</td><td> 1781339    </td><td> 266645     </td><td> 2792583    </td><td> 2711377    </td><td> 2786165    </td></tr>\n",
       "\t<tr><td>205165510031</td><td> 1625354    </td><td> 336812     </td><td> 3383364    </td><td> 3066716    </td><td> 3375294    </td></tr>\n",
       "\t<tr><td> 53661498319</td><td> 2521468    </td><td> 281802     </td><td> 3960897    </td><td> 3807700    </td><td> 3944739    </td></tr>\n",
       "\t<tr><td> 29876889574</td><td> 4157666    </td><td> 376296     </td><td> 5606040    </td><td> 5372027    </td><td> 5596182    </td></tr>\n",
       "\t<tr><td>151987573940</td><td> 4854987    </td><td> 205275     </td><td> 6029519    </td><td> 6233239    </td><td> 6023386    </td></tr>\n",
       "\t<tr><td>  3124630169</td><td>11503592    </td><td> 589327     </td><td>15006855    </td><td>15581808    </td><td>14988985    </td></tr>\n",
       "\t<tr><td>282534586831</td><td> 1255483    </td><td> 196111     </td><td> 2118015    </td><td> 2015289    </td><td> 2111584    </td></tr>\n",
       "\t<tr><td> 86309072025</td><td> 1860772    </td><td> 224834     </td><td> 3178015    </td><td> 3151348    </td><td> 3170816    </td></tr>\n",
       "\t<tr><td>137077205908</td><td> 1569370    </td><td> 350899     </td><td> 3066822    </td><td> 2779821    </td><td> 3059208    </td></tr>\n",
       "\t<tr><td>   714569035</td><td>18620703    </td><td>1151868     </td><td>24227751    </td><td>24644342    </td><td>24198274    </td></tr>\n",
       "\t<tr><td>208100745976</td><td> 1842594    </td><td> 248897     </td><td> 3022352    </td><td> 2843423    </td><td> 3014117    </td></tr>\n",
       "\t<tr><td> 47673176113</td><td> 2372064    </td><td> 250929     </td><td> 4004447    </td><td> 3867071    </td><td> 3995688    </td></tr>\n",
       "\t<tr><td>178487438250</td><td> 1780189    </td><td>1859310     </td><td> 5548506    </td><td> 3725188    </td><td> 5538774    </td></tr>\n",
       "\t<tr><td>255676134499</td><td> 1655052    </td><td> 310908     </td><td> 2840251    </td><td> 2585612    </td><td> 2832915    </td></tr>\n",
       "\t<tr><td> 62555501964</td><td> 2383931    </td><td> 249560     </td><td> 3687733    </td><td> 3691948    </td><td> 3678067    </td></tr>\n",
       "\t<tr><td>119274106574</td><td> 2297518    </td><td> 400079     </td><td> 3698223    </td><td> 3343233    </td><td> 3688059    </td></tr>\n",
       "\t<tr><td>270651237346</td><td> 1762674    </td><td> 203699     </td><td> 2948327    </td><td> 2835892    </td><td> 2941086    </td></tr>\n",
       "\t<tr><td> 89226855791</td><td> 1487485    </td><td> 224734     </td><td> 2469701    </td><td> 2307854    </td><td> 2455647    </td></tr>\n",
       "\t<tr><td>216977208729</td><td> 1772709    </td><td> 280996     </td><td> 3065119    </td><td> 2877608    </td><td> 3056776    </td></tr>\n",
       "\t<tr><td>160953587365</td><td> 2052302    </td><td> 280113     </td><td> 3344608    </td><td> 3127323    </td><td> 3336893    </td></tr>\n",
       "\t<tr><td>149062707785</td><td> 1454312    </td><td> 208347     </td><td> 2322952    </td><td> 2162968    </td><td> 2316391    </td></tr>\n",
       "\t<tr><td>169654205883</td><td> 1417139    </td><td> 219490     </td><td> 2420563    </td><td> 2347632    </td><td> 2413474    </td></tr>\n",
       "\t<tr><td>288298782994</td><td> 2815095    </td><td> 225809     </td><td> 6590378    </td><td> 6682281    </td><td> 6583063    </td></tr>\n",
       "\t<tr><td>246753371520</td><td> 1519717    </td><td>1284089     </td><td> 3563569    </td><td> 2340451    </td><td> 3556912    </td></tr>\n",
       "\t<tr><td>276471505408</td><td> 1436619    </td><td> 258765     </td><td> 2448485    </td><td> 2212912    </td><td> 2440529    </td></tr>\n",
       "\t<tr><td>291334494329</td><td> 1943289    </td><td> 330907     </td><td> 3374363    </td><td> 3106604    </td><td> 3366808    </td></tr>\n",
       "</tbody>\n",
       "</table>\n"
      ],
      "text/latex": [
       "\\begin{tabular}{r|llllll}\n",
       " date & configuration.time & model.update & reaction.time & privacy.update & total.processing\\\\\n",
       "\\hline\n",
       "\t            0 &  8305666     &  1799813     & 13963535     & 13200025     & 13934522    \\\\\n",
       "\t 166667207690 &  1919639     &   250090     &  3143789     &  2953796     &  3137104    \\\\\n",
       "\t 264660969415 &  1532478     &   323792     &  2611405     &  2385057     &  2602089    \\\\\n",
       "\t 184469796349 &  1570376     &   270899     &  2545727     &  2331983     &  2538234    \\\\\n",
       "\t  77360826687 &  2283188     &   226827     &  3513635     &  3371900     &  3490048    \\\\\n",
       "\t  26856761911 &  3745337     &   353350     &  5653685     &  5624904     &  5644199    \\\\\n",
       "\t 225835185541 &  1666723     &   378632     &  2967911     &  2628706     &  2958904    \\\\\n",
       "\t  23886981761 &  8505249     &   457047     & 10631133     & 10294582     & 10516239    \\\\\n",
       "\t  92284719715 &  2071736     &   404650     &  3842604     &  3509952     &  3832500    \\\\\n",
       "\t 214007531124 &  1744115     &   336090     &  3031946     &  2725655     &  3023792    \\\\\n",
       "\t 196226535911 &  1986194     &   368605     &  3350262     &  3047818     &  3342705    \\\\\n",
       "\t  56562095743 &  4515154     &   956377     &  7795560     &  7418995     &  7769897    \\\\\n",
       "\t 146005083911 &  1267728     &   245062     &  2372670     &  2176607     &  2363996    \\\\\n",
       "\t 243697808620 &  1952758     &   333125     &  3183840     &  2917697     &  3175529    \\\\\n",
       "\t 252825552857 &  1473740     &   192616     &  2369483     &  2268023     &  2363093    \\\\\n",
       "\t 122246870681 &  2238437     &   231014     &  3309945     &  3202560     &  3301742    \\\\\n",
       "\t   -758575997 & 10143768     & 57561636     & 77430014     & 19771665     & 77408406    \\\\\n",
       "\t  20937026901 &  3290222     &   295717     &  5296268     &  5287563     &  5282378    \\\\\n",
       "\t 172579196627 &  1106470     &   234451     &  2134829     &  1898767     &  2128629    \\\\\n",
       "\t  71537329331 &  1952973     &   593828     &  3939678     &  3548751     &  3923844    \\\\\n",
       "\t 234798834822 &  1439824     &   199643     &  2382928     &  2292482     &  2371419    \\\\\n",
       "\t  68664123143 &  7402452     &   227385     &  9955270     & 10319285     &  9947340    \\\\\n",
       "\t  98228616068 &  2098060     &   322797     &  3721846     &  3602509     &  3712529    \\\\\n",
       "\t  32877740247 &  3130813     &   444618     &  5102803     &  4917491     &  5093635    \\\\\n",
       "\t  38841544254 &  5276484     &   594166     &  9282544     &  8947741     &  9271264    \\\\\n",
       "\t 249649788384 &  1871137     &   348643     &  3179484     &  2922205     &  3170643    \\\\\n",
       "\t 175547827403 &  1416764     &   251138     &  2399163     &  2201486     &  2393310    \\\\\n",
       "\t 240664972782 &  1420887     &   283121     &  2438155     &  2266411     &  2430471    \\\\\n",
       "\t 140055457079 &  2601832     &   303904     &  4042158     &  3904017     &  4034377    \\\\\n",
       "\t 199207228176 &  1586533     &   469871     &  3173231     &  2791387     &  3157350    \\\\\n",
       "\t ⋮ & ⋮ & ⋮ & ⋮ & ⋮ & ⋮\\\\\n",
       "\t 267678722644 &  1593950     &  415473      &  3229065     &  2822046     &  3220846    \\\\\n",
       "\t   9131869400 &  6189343     &  322539      & 11740765     & 12114085     & 11726954    \\\\\n",
       "\t  15038620565 & 11724393     &  625854      & 14860378     & 14579169     & 14840610    \\\\\n",
       "\t 128222608842 &  1145420     &  253261      &  2402382     &  2190830     &  2394555    \\\\\n",
       "\t  80352537133 &  1781339     &  266645      &  2792583     &  2711377     &  2786165    \\\\\n",
       "\t 205165510031 &  1625354     &  336812      &  3383364     &  3066716     &  3375294    \\\\\n",
       "\t  53661498319 &  2521468     &  281802      &  3960897     &  3807700     &  3944739    \\\\\n",
       "\t  29876889574 &  4157666     &  376296      &  5606040     &  5372027     &  5596182    \\\\\n",
       "\t 151987573940 &  4854987     &  205275      &  6029519     &  6233239     &  6023386    \\\\\n",
       "\t   3124630169 & 11503592     &  589327      & 15006855     & 15581808     & 14988985    \\\\\n",
       "\t 282534586831 &  1255483     &  196111      &  2118015     &  2015289     &  2111584    \\\\\n",
       "\t  86309072025 &  1860772     &  224834      &  3178015     &  3151348     &  3170816    \\\\\n",
       "\t 137077205908 &  1569370     &  350899      &  3066822     &  2779821     &  3059208    \\\\\n",
       "\t    714569035 & 18620703     & 1151868      & 24227751     & 24644342     & 24198274    \\\\\n",
       "\t 208100745976 &  1842594     &  248897      &  3022352     &  2843423     &  3014117    \\\\\n",
       "\t  47673176113 &  2372064     &  250929      &  4004447     &  3867071     &  3995688    \\\\\n",
       "\t 178487438250 &  1780189     & 1859310      &  5548506     &  3725188     &  5538774    \\\\\n",
       "\t 255676134499 &  1655052     &  310908      &  2840251     &  2585612     &  2832915    \\\\\n",
       "\t  62555501964 &  2383931     &  249560      &  3687733     &  3691948     &  3678067    \\\\\n",
       "\t 119274106574 &  2297518     &  400079      &  3698223     &  3343233     &  3688059    \\\\\n",
       "\t 270651237346 &  1762674     &  203699      &  2948327     &  2835892     &  2941086    \\\\\n",
       "\t  89226855791 &  1487485     &  224734      &  2469701     &  2307854     &  2455647    \\\\\n",
       "\t 216977208729 &  1772709     &  280996      &  3065119     &  2877608     &  3056776    \\\\\n",
       "\t 160953587365 &  2052302     &  280113      &  3344608     &  3127323     &  3336893    \\\\\n",
       "\t 149062707785 &  1454312     &  208347      &  2322952     &  2162968     &  2316391    \\\\\n",
       "\t 169654205883 &  1417139     &  219490      &  2420563     &  2347632     &  2413474    \\\\\n",
       "\t 288298782994 &  2815095     &  225809      &  6590378     &  6682281     &  6583063    \\\\\n",
       "\t 246753371520 &  1519717     & 1284089      &  3563569     &  2340451     &  3556912    \\\\\n",
       "\t 276471505408 &  1436619     &  258765      &  2448485     &  2212912     &  2440529    \\\\\n",
       "\t 291334494329 &  1943289     &  330907      &  3374363     &  3106604     &  3366808    \\\\\n",
       "\\end{tabular}\n"
      ],
      "text/markdown": [
       "\n",
       "date | configuration.time | model.update | reaction.time | privacy.update | total.processing | \n",
       "|---|---|---|---|---|---|---|---|---|---|---|---|---|---|---|---|---|---|---|---|---|---|---|---|---|---|---|---|---|---|---|---|---|---|---|---|---|---|---|---|---|---|---|---|---|---|---|---|---|---|---|---|---|---|---|---|---|---|---|---|---|\n",
       "|            0 |  8305666     |  1799813     | 13963535     | 13200025     | 13934522     | \n",
       "| 166667207690 |  1919639     |   250090     |  3143789     |  2953796     |  3137104     | \n",
       "| 264660969415 |  1532478     |   323792     |  2611405     |  2385057     |  2602089     | \n",
       "| 184469796349 |  1570376     |   270899     |  2545727     |  2331983     |  2538234     | \n",
       "|  77360826687 |  2283188     |   226827     |  3513635     |  3371900     |  3490048     | \n",
       "|  26856761911 |  3745337     |   353350     |  5653685     |  5624904     |  5644199     | \n",
       "| 225835185541 |  1666723     |   378632     |  2967911     |  2628706     |  2958904     | \n",
       "|  23886981761 |  8505249     |   457047     | 10631133     | 10294582     | 10516239     | \n",
       "|  92284719715 |  2071736     |   404650     |  3842604     |  3509952     |  3832500     | \n",
       "| 214007531124 |  1744115     |   336090     |  3031946     |  2725655     |  3023792     | \n",
       "| 196226535911 |  1986194     |   368605     |  3350262     |  3047818     |  3342705     | \n",
       "|  56562095743 |  4515154     |   956377     |  7795560     |  7418995     |  7769897     | \n",
       "| 146005083911 |  1267728     |   245062     |  2372670     |  2176607     |  2363996     | \n",
       "| 243697808620 |  1952758     |   333125     |  3183840     |  2917697     |  3175529     | \n",
       "| 252825552857 |  1473740     |   192616     |  2369483     |  2268023     |  2363093     | \n",
       "| 122246870681 |  2238437     |   231014     |  3309945     |  3202560     |  3301742     | \n",
       "|   -758575997 | 10143768     | 57561636     | 77430014     | 19771665     | 77408406     | \n",
       "|  20937026901 |  3290222     |   295717     |  5296268     |  5287563     |  5282378     | \n",
       "| 172579196627 |  1106470     |   234451     |  2134829     |  1898767     |  2128629     | \n",
       "|  71537329331 |  1952973     |   593828     |  3939678     |  3548751     |  3923844     | \n",
       "| 234798834822 |  1439824     |   199643     |  2382928     |  2292482     |  2371419     | \n",
       "|  68664123143 |  7402452     |   227385     |  9955270     | 10319285     |  9947340     | \n",
       "|  98228616068 |  2098060     |   322797     |  3721846     |  3602509     |  3712529     | \n",
       "|  32877740247 |  3130813     |   444618     |  5102803     |  4917491     |  5093635     | \n",
       "|  38841544254 |  5276484     |   594166     |  9282544     |  8947741     |  9271264     | \n",
       "| 249649788384 |  1871137     |   348643     |  3179484     |  2922205     |  3170643     | \n",
       "| 175547827403 |  1416764     |   251138     |  2399163     |  2201486     |  2393310     | \n",
       "| 240664972782 |  1420887     |   283121     |  2438155     |  2266411     |  2430471     | \n",
       "| 140055457079 |  2601832     |   303904     |  4042158     |  3904017     |  4034377     | \n",
       "| 199207228176 |  1586533     |   469871     |  3173231     |  2791387     |  3157350     | \n",
       "| ⋮ | ⋮ | ⋮ | ⋮ | ⋮ | ⋮ | \n",
       "| 267678722644 |  1593950     |  415473      |  3229065     |  2822046     |  3220846     | \n",
       "|   9131869400 |  6189343     |  322539      | 11740765     | 12114085     | 11726954     | \n",
       "|  15038620565 | 11724393     |  625854      | 14860378     | 14579169     | 14840610     | \n",
       "| 128222608842 |  1145420     |  253261      |  2402382     |  2190830     |  2394555     | \n",
       "|  80352537133 |  1781339     |  266645      |  2792583     |  2711377     |  2786165     | \n",
       "| 205165510031 |  1625354     |  336812      |  3383364     |  3066716     |  3375294     | \n",
       "|  53661498319 |  2521468     |  281802      |  3960897     |  3807700     |  3944739     | \n",
       "|  29876889574 |  4157666     |  376296      |  5606040     |  5372027     |  5596182     | \n",
       "| 151987573940 |  4854987     |  205275      |  6029519     |  6233239     |  6023386     | \n",
       "|   3124630169 | 11503592     |  589327      | 15006855     | 15581808     | 14988985     | \n",
       "| 282534586831 |  1255483     |  196111      |  2118015     |  2015289     |  2111584     | \n",
       "|  86309072025 |  1860772     |  224834      |  3178015     |  3151348     |  3170816     | \n",
       "| 137077205908 |  1569370     |  350899      |  3066822     |  2779821     |  3059208     | \n",
       "|    714569035 | 18620703     | 1151868      | 24227751     | 24644342     | 24198274     | \n",
       "| 208100745976 |  1842594     |  248897      |  3022352     |  2843423     |  3014117     | \n",
       "|  47673176113 |  2372064     |  250929      |  4004447     |  3867071     |  3995688     | \n",
       "| 178487438250 |  1780189     | 1859310      |  5548506     |  3725188     |  5538774     | \n",
       "| 255676134499 |  1655052     |  310908      |  2840251     |  2585612     |  2832915     | \n",
       "|  62555501964 |  2383931     |  249560      |  3687733     |  3691948     |  3678067     | \n",
       "| 119274106574 |  2297518     |  400079      |  3698223     |  3343233     |  3688059     | \n",
       "| 270651237346 |  1762674     |  203699      |  2948327     |  2835892     |  2941086     | \n",
       "|  89226855791 |  1487485     |  224734      |  2469701     |  2307854     |  2455647     | \n",
       "| 216977208729 |  1772709     |  280996      |  3065119     |  2877608     |  3056776     | \n",
       "| 160953587365 |  2052302     |  280113      |  3344608     |  3127323     |  3336893     | \n",
       "| 149062707785 |  1454312     |  208347      |  2322952     |  2162968     |  2316391     | \n",
       "| 169654205883 |  1417139     |  219490      |  2420563     |  2347632     |  2413474     | \n",
       "| 288298782994 |  2815095     |  225809      |  6590378     |  6682281     |  6583063     | \n",
       "| 246753371520 |  1519717     | 1284089      |  3563569     |  2340451     |  3556912     | \n",
       "| 276471505408 |  1436619     |  258765      |  2448485     |  2212912     |  2440529     | \n",
       "| 291334494329 |  1943289     |  330907      |  3374363     |  3106604     |  3366808     | \n",
       "\n",
       "\n"
      ],
      "text/plain": [
       "    date         configuration.time model.update reaction.time privacy.update\n",
       "1              0  8305666            1799813     13963535      13200025      \n",
       "2   166667207690  1919639             250090      3143789       2953796      \n",
       "3   264660969415  1532478             323792      2611405       2385057      \n",
       "4   184469796349  1570376             270899      2545727       2331983      \n",
       "5    77360826687  2283188             226827      3513635       3371900      \n",
       "6    26856761911  3745337             353350      5653685       5624904      \n",
       "7   225835185541  1666723             378632      2967911       2628706      \n",
       "8    23886981761  8505249             457047     10631133      10294582      \n",
       "9    92284719715  2071736             404650      3842604       3509952      \n",
       "10  214007531124  1744115             336090      3031946       2725655      \n",
       "11  196226535911  1986194             368605      3350262       3047818      \n",
       "12   56562095743  4515154             956377      7795560       7418995      \n",
       "13  146005083911  1267728             245062      2372670       2176607      \n",
       "14  243697808620  1952758             333125      3183840       2917697      \n",
       "15  252825552857  1473740             192616      2369483       2268023      \n",
       "16  122246870681  2238437             231014      3309945       3202560      \n",
       "17    -758575997 10143768           57561636     77430014      19771665      \n",
       "18   20937026901  3290222             295717      5296268       5287563      \n",
       "19  172579196627  1106470             234451      2134829       1898767      \n",
       "20   71537329331  1952973             593828      3939678       3548751      \n",
       "21  234798834822  1439824             199643      2382928       2292482      \n",
       "22   68664123143  7402452             227385      9955270      10319285      \n",
       "23   98228616068  2098060             322797      3721846       3602509      \n",
       "24   32877740247  3130813             444618      5102803       4917491      \n",
       "25   38841544254  5276484             594166      9282544       8947741      \n",
       "26  249649788384  1871137             348643      3179484       2922205      \n",
       "27  175547827403  1416764             251138      2399163       2201486      \n",
       "28  240664972782  1420887             283121      2438155       2266411      \n",
       "29  140055457079  2601832             303904      4042158       3904017      \n",
       "30  199207228176  1586533             469871      3173231       2791387      \n",
       "⋮   ⋮            ⋮                  ⋮            ⋮             ⋮             \n",
       "75  267678722644  1593950            415473       3229065       2822046      \n",
       "76    9131869400  6189343            322539      11740765      12114085      \n",
       "77   15038620565 11724393            625854      14860378      14579169      \n",
       "78  128222608842  1145420            253261       2402382       2190830      \n",
       "79   80352537133  1781339            266645       2792583       2711377      \n",
       "80  205165510031  1625354            336812       3383364       3066716      \n",
       "81   53661498319  2521468            281802       3960897       3807700      \n",
       "82   29876889574  4157666            376296       5606040       5372027      \n",
       "83  151987573940  4854987            205275       6029519       6233239      \n",
       "84    3124630169 11503592            589327      15006855      15581808      \n",
       "85  282534586831  1255483            196111       2118015       2015289      \n",
       "86   86309072025  1860772            224834       3178015       3151348      \n",
       "87  137077205908  1569370            350899       3066822       2779821      \n",
       "88     714569035 18620703           1151868      24227751      24644342      \n",
       "89  208100745976  1842594            248897       3022352       2843423      \n",
       "90   47673176113  2372064            250929       4004447       3867071      \n",
       "91  178487438250  1780189           1859310       5548506       3725188      \n",
       "92  255676134499  1655052            310908       2840251       2585612      \n",
       "93   62555501964  2383931            249560       3687733       3691948      \n",
       "94  119274106574  2297518            400079       3698223       3343233      \n",
       "95  270651237346  1762674            203699       2948327       2835892      \n",
       "96   89226855791  1487485            224734       2469701       2307854      \n",
       "97  216977208729  1772709            280996       3065119       2877608      \n",
       "98  160953587365  2052302            280113       3344608       3127323      \n",
       "99  149062707785  1454312            208347       2322952       2162968      \n",
       "100 169654205883  1417139            219490       2420563       2347632      \n",
       "101 288298782994  2815095            225809       6590378       6682281      \n",
       "102 246753371520  1519717           1284089       3563569       2340451      \n",
       "103 276471505408  1436619            258765       2448485       2212912      \n",
       "104 291334494329  1943289            330907       3374363       3106604      \n",
       "    total.processing\n",
       "1   13934522        \n",
       "2    3137104        \n",
       "3    2602089        \n",
       "4    2538234        \n",
       "5    3490048        \n",
       "6    5644199        \n",
       "7    2958904        \n",
       "8   10516239        \n",
       "9    3832500        \n",
       "10   3023792        \n",
       "11   3342705        \n",
       "12   7769897        \n",
       "13   2363996        \n",
       "14   3175529        \n",
       "15   2363093        \n",
       "16   3301742        \n",
       "17  77408406        \n",
       "18   5282378        \n",
       "19   2128629        \n",
       "20   3923844        \n",
       "21   2371419        \n",
       "22   9947340        \n",
       "23   3712529        \n",
       "24   5093635        \n",
       "25   9271264        \n",
       "26   3170643        \n",
       "27   2393310        \n",
       "28   2430471        \n",
       "29   4034377        \n",
       "30   3157350        \n",
       "⋮   ⋮               \n",
       "75   3220846        \n",
       "76  11726954        \n",
       "77  14840610        \n",
       "78   2394555        \n",
       "79   2786165        \n",
       "80   3375294        \n",
       "81   3944739        \n",
       "82   5596182        \n",
       "83   6023386        \n",
       "84  14988985        \n",
       "85   2111584        \n",
       "86   3170816        \n",
       "87   3059208        \n",
       "88  24198274        \n",
       "89   3014117        \n",
       "90   3995688        \n",
       "91   5538774        \n",
       "92   2832915        \n",
       "93   3678067        \n",
       "94   3688059        \n",
       "95   2941086        \n",
       "96   2455647        \n",
       "97   3056776        \n",
       "98   3336893        \n",
       "99   2316391        \n",
       "100  2413474        \n",
       "101  6583063        \n",
       "102  3556912        \n",
       "103  2440529        \n",
       "104  3366808        "
      ]
     },
     "metadata": {},
     "output_type": "display_data"
    }
   ],
   "source": [
    "data = read.csv(\"../../iobserve-analysis/evaluate-jss-performance/jss-result.csv\")\n",
    "\n",
    "data"
   ]
  },
  {
   "cell_type": "markdown",
   "metadata": {},
   "source": [
    "## Load plot libraries and define common R functions"
   ]
  },
  {
   "cell_type": "code",
   "execution_count": 25,
   "metadata": {},
   "outputs": [],
   "source": [
    "library(ggplot2)\n",
    "library(magrittr)\n",
    "library(ggpubr)\n",
    "library(repr)\n",
    "\n",
    "plotFunc <- function(input, column, label, upperLimit, shape) {\n",
    "    col <- input[,column]\n",
    "    return (ggplot(input, aes (y=col, x=\"\")) + geom_boxplot(outlier.shape = shape) + ylab(\"Time [ns]\") + xlab(label) + ylim(0,upperLimit))\n",
    "}\n",
    "\n",
    "plotAll <- function(data, upperlimit, shape){\n",
    "    plots <- list()\n",
    "\n",
    "    i <- 1\n",
    "    for (label in colnames(data)) {\n",
    "        if ( i > 1 ) {\n",
    "            label <- gsub(\"[.]\", \" \",label)\n",
    "            plots[[i-1]] <- plotFunc(data,i,label,upperLimit, shape)\n",
    "        }\n",
    "        i <- i + 1\n",
    "    }\n",
    "\n",
    "    ggarrange(plotlist=plots, ncol = length(plots), nrow = 1)\n",
    "}\n",
    "\n",
    "options(repr.plot.height=3)"
   ]
  },
  {
   "cell_type": "markdown",
   "metadata": {},
   "source": [
    "## Measurements"
   ]
  },
  {
   "cell_type": "code",
   "execution_count": 26,
   "metadata": {
    "scrolled": false
   },
   "outputs": [
    {
     "data": {},
     "metadata": {},
     "output_type": "display_data"
    },
    {
     "data": {
      "image/png": "[encoded data removed]",
      "text/plain": [
       "plot without title"
      ]
     },
     "metadata": {},
     "output_type": "display_data"
    }
   ],
   "source": [
    "upperLimit <- max(data[,\"total.processing\"],data[,\"reaction.time\"])\n",
    "\n",
    "plotAll(data,upperLimit, 16)"
   ]
  },
  {
   "cell_type": "markdown",
   "metadata": {},
   "source": [
    "Measurements over Time"
   ]
  },
  {
   "cell_type": "code",
   "execution_count": 74,
   "metadata": {
    "scrolled": true
   },
   "outputs": [
    {
     "data": {},
     "metadata": {},
     "output_type": "display_data"
    },
    {
     "data": {
      "image/png": "[encoded data removed]",
      "text/plain": [
       "plot without title"
      ]
     },
     "metadata": {},
     "output_type": "display_data"
    }
   ],
   "source": [
    "library(reshape2)\n",
    "\n",
    "plotData <- data\n",
    "plotData[,\"date\"] <- plotData[,\"date\"]/1000/1000/1000\n",
    "\n",
    "allColumns <- colnames(data)\n",
    "measureColumns <- allColumns[2:length(allColumns)]\n",
    "\n",
    "ggData <- melt(plotData, id.vars = \"date\", measure.vars = measureColumns)\n",
    "\n",
    "ggplot(ggData, aes(x=date, y=value, color = variable)) + geom_line() + xlab(\"Runtime\") + ylab(\"Execution Time\")"
   ]
  },
  {
   "cell_type": "markdown",
   "metadata": {},
   "source": [
    "## Measurements without depicting outliers"
   ]
  },
  {
   "cell_type": "code",
   "execution_count": 18,
   "metadata": {
    "scrolled": true
   },
   "outputs": [
    {
     "name": "stderr",
     "output_type": "stream",
     "text": [
      "Warning message:\n",
      "“Removed 20 rows containing non-finite values (stat_boxplot).”Warning message:\n",
      "“Removed 1 rows containing non-finite values (stat_boxplot).”Warning message:\n",
      "“Removed 42 rows containing non-finite values (stat_boxplot).”Warning message:\n",
      "“Removed 37 rows containing non-finite values (stat_boxplot).”Warning message:\n",
      "“Removed 40 rows containing non-finite values (stat_boxplot).”"
     ]
    },
    {
     "data": {},
     "metadata": {},
     "output_type": "display_data"
    },
    {
     "data": {
      "image/png": "[encoded data removed]",
      "text/plain": [
       "plot without title"
      ]
     },
     "metadata": {},
     "output_type": "display_data"
    }
   ],
   "source": [
    "upperLimit <- 3500000\n",
    "\n",
    "plotAll(data, upperLimit, NA)"
   ]
  },
  {
   "cell_type": "code",
   "execution_count": 17,
   "metadata": {},
   "outputs": [
    {
     "data": {
      "text/html": [
       "<table>\n",
       "<thead><tr><th scope=col>measurement</th><th scope=col>mean</th><th scope=col>median</th><th scope=col>variance</th></tr></thead>\n",
       "<tbody>\n",
       "\t<tr><td>configuration time</td><td>2.8998327         </td><td>1.840432          </td><td> 9.042909         </td></tr>\n",
       "\t<tr><td>model update      </td><td>0.9287382         </td><td>0.297486          </td><td>31.518319         </td></tr>\n",
       "\t<tr><td>reaction time     </td><td>5.3894416         </td><td>3.178749          </td><td>76.196357         </td></tr>\n",
       "\t<tr><td>privacy update    </td><td>4.4618113         </td><td>2.919334          </td><td>17.559918         </td></tr>\n",
       "\t<tr><td>total processing  </td><td>5.3756289         </td><td>3.170730          </td><td>76.132088         </td></tr>\n",
       "</tbody>\n",
       "</table>\n"
      ],
      "text/latex": [
       "\\begin{tabular}{r|llll}\n",
       " measurement & mean & median & variance\\\\\n",
       "\\hline\n",
       "\t configuration time & 2.8998327          & 1.840432           &  9.042909         \\\\\n",
       "\t model update       & 0.9287382          & 0.297486           & 31.518319         \\\\\n",
       "\t reaction time      & 5.3894416          & 3.178749           & 76.196357         \\\\\n",
       "\t privacy update     & 4.4618113          & 2.919334           & 17.559918         \\\\\n",
       "\t total processing   & 5.3756289          & 3.170730           & 76.132088         \\\\\n",
       "\\end{tabular}\n"
      ],
      "text/markdown": [
       "\n",
       "measurement | mean | median | variance | \n",
       "|---|---|---|---|---|\n",
       "| configuration time | 2.8998327          | 1.840432           |  9.042909          | \n",
       "| model update       | 0.9287382          | 0.297486           | 31.518319          | \n",
       "| reaction time      | 5.3894416          | 3.178749           | 76.196357          | \n",
       "| privacy update     | 4.4618113          | 2.919334           | 17.559918          | \n",
       "| total processing   | 5.3756289          | 3.170730           | 76.132088          | \n",
       "\n",
       "\n"
      ],
      "text/plain": [
       "  measurement        mean      median   variance \n",
       "1 configuration time 2.8998327 1.840432  9.042909\n",
       "2 model update       0.9287382 0.297486 31.518319\n",
       "3 reaction time      5.3894416 3.178749 76.196357\n",
       "4 privacy update     4.4618113 2.919334 17.559918\n",
       "5 total processing   5.3756289 3.170730 76.132088"
      ]
     },
     "metadata": {},
     "output_type": "display_data"
    }
   ],
   "source": [
    "label.vals <- c()\n",
    "mean.vals <- c()\n",
    "median.vals <- c()\n",
    "var.vals <- c()\n",
    "\n",
    "unit.conversion <- 1000 * 1000\n",
    "\n",
    "i <- 1\n",
    "for (label in colnames(data)) {\n",
    "    label.vals[[i]] <- gsub(\"[.]\", \" \",label)\n",
    "    input <- data[,i] / unit.conversion\n",
    "    median.vals[[i]] <- median(input)\n",
    "    mean.vals[[i]] <- mean(input)\n",
    "    var.vals[[i]] <- var(input)\n",
    "    i <- i + 1\n",
    "}\n",
    "\n",
    "result <- data.frame(\"measurement\" = label.vals, \"mean\" = mean.vals, \"median\" = median.vals, \"variance\" = var.vals)\n",
    "\n",
    "result"
   ]
  },
  {
   "cell_type": "markdown",
   "metadata": {},
   "source": [
    "All values are in milli seconds.\n",
    "* _Total processing_ time is the sum of _privacy update_ time and _model update_ time\n",
    "* _Reaction time_ includes _configuration time_ and _total processing_ time. Still it is lower than _configuration time_ plus _total processing_ time, as the filters for _privacy update_, _model update_ and _configuration_ run in separate threads."
   ]
  },
  {
   "cell_type": "code",
   "execution_count": null,
   "metadata": {},
   "outputs": [],
   "source": []
  },
  {
   "cell_type": "code",
   "execution_count": null,
   "metadata": {},
   "outputs": [],
   "source": []
  },
  {
   "cell_type": "code",
   "execution_count": null,
   "metadata": {},
   "outputs": [],
   "source": []
  }
 ],
 "metadata": {
  "kernelspec": {
   "display_name": "R",
   "language": "R",
   "name": "ir"
  },
  "language_info": {
   "codemirror_mode": "r",
   "file_extension": ".r",
   "mimetype": "text/x-r-source",
   "name": "R",
   "pygments_lexer": "r",
   "version": "3.4.4"
  }
 },
 "nbformat": 4,
 "nbformat_minor": 2
}
