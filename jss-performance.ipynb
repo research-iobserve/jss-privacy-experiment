{
 "cells": [
  {
   "cell_type": "markdown",
   "metadata": {},
   "source": [
    "# JSS Performance Evaluation\n",
    "\n",
    "We collect data from N runs processing 100 deployment changes moving the accounting node between Germany and the USA.\n",
    "\n",
    "Initially, we read the (test) data frame containing values for\n",
    " * total time between incoming event (this should be also measuring time) and reconfiguration of probes\n",
    " * model update includes code to model level mapping and actual PCM model update\n",
    " * privacy update is the complete time necessary to recomupte the privacy properties\n",
    " * configuration time is the time used to take the privacy result, compute probe configuration and probe reconfiguration."
   ]
  },
  {
   "cell_type": "code",
   "execution_count": 11,
   "metadata": {},
   "outputs": [
    {
     "data": {
      "text/html": [
       "140"
      ],
      "text/latex": [
       "140"
      ],
      "text/markdown": [
       "140"
      ],
      "text/plain": [
       "[1] 140"
      ]
     },
     "metadata": {},
     "output_type": "display_data"
    },
    {
     "data": {
      "text/html": [
       "<table>\n",
       "<thead><tr><th scope=col>date</th><th scope=col>configuration.time</th><th scope=col>model.update</th><th scope=col>reaction.time</th><th scope=col>privacy.update</th><th scope=col>total.processing</th></tr></thead>\n",
       "<tbody>\n",
       "\t<tr><td>           0</td><td> 640355     </td><td>  217731    </td><td> 1368427    </td><td>1186864     </td><td> 1361646    </td></tr>\n",
       "\t<tr><td> -9066705243</td><td>1035271     </td><td>  201685    </td><td> 1984776    </td><td>1902763     </td><td> 1965132    </td></tr>\n",
       "\t<tr><td>  9198887186</td><td>1039417     </td><td>  227506    </td><td> 2045696    </td><td>1903676     </td><td> 2020761    </td></tr>\n",
       "\t<tr><td>-36780952966</td><td>1109404     </td><td>  129883    </td><td> 1830844    </td><td>1885948     </td><td> 1818012    </td></tr>\n",
       "\t<tr><td>-64191104704</td><td>1761982     </td><td>  305432    </td><td> 2959209    </td><td>3621852     </td><td> 2943810    </td></tr>\n",
       "\t<tr><td>-54735715837</td><td> 890192     </td><td>  149251    </td><td> 1613712    </td><td>1683025     </td><td> 1589134    </td></tr>\n",
       "\t<tr><td>  9623920433</td><td> 568235     </td><td>  152744    </td><td> 1139131    </td><td>1073351     </td><td> 1132291    </td></tr>\n",
       "\t<tr><td>-72971278694</td><td>1668538     </td><td>  568879    </td><td> 2923693    </td><td>2585814     </td><td> 2874840    </td></tr>\n",
       "\t<tr><td>-46253956438</td><td>1240904     </td><td>  222090    </td><td> 2402883    </td><td>2585361     </td><td> 2367189    </td></tr>\n",
       "\t<tr><td>-73516095282</td><td>2272812     </td><td>  361798    </td><td> 3643514    </td><td>4024472     </td><td> 3629378    </td></tr>\n",
       "\t<tr><td>-18710384364</td><td> 991110     </td><td>  312006    </td><td> 2262017    </td><td>2005951     </td><td> 2232782    </td></tr>\n",
       "\t<tr><td>-18200342494</td><td> 734290     </td><td>  159434    </td><td> 1366346    </td><td>1363885     </td><td> 1359297    </td></tr>\n",
       "\t<tr><td>-45750682190</td><td>1031419     </td><td>  140927    </td><td> 1954517    </td><td>2008979     </td><td> 1941676    </td></tr>\n",
       "\t<tr><td>-55223252127</td><td>1492303     </td><td>  329621    </td><td> 2551712    </td><td>2479136     </td><td> 2535912    </td></tr>\n",
       "\t<tr><td> 18687652951</td><td> 635953     </td><td>  161860    </td><td> 1260488    </td><td>1198002     </td><td> 1241863    </td></tr>\n",
       "\t<tr><td>-27307962890</td><td> 620548     </td><td>  143874    </td><td> 2428359    </td><td>2417140     </td><td> 2416372    </td></tr>\n",
       "\t<tr><td>-73911985502</td><td>2606598     </td><td>  538468    </td><td> 4130767    </td><td>3870770     </td><td> 4113921    </td></tr>\n",
       "\t<tr><td> 21275267531</td><td> 641294     </td><td>  139523    </td><td> 1255038    </td><td>1219723     </td><td> 1248766    </td></tr>\n",
       "\t<tr><td> 26419990376</td><td>  96905     </td><td>  173143    </td><td>  662379    </td><td> 546090     </td><td>  644720    </td></tr>\n",
       "\t<tr><td> 23943459460</td><td> 296444     </td><td>  123350    </td><td>  897739    </td><td> 897393     </td><td>  891206    </td></tr>\n",
       "\t<tr><td>-74693842056</td><td>1291804     </td><td>36871215    </td><td>42706824    </td><td>6307880     </td><td>42684425    </td></tr>\n",
       "\t<tr><td>-63757060722</td><td>1566782     </td><td>  196336    </td><td> 2556751    </td><td>2698827     </td><td> 2527376    </td></tr>\n",
       "\t<tr><td>   496313426</td><td> 471296     </td><td>  170240    </td><td> 2200394    </td><td>2097995     </td><td> 2170123    </td></tr>\n",
       "\t<tr><td> -8503613545</td><td> 470450     </td><td>  160416    </td><td> 1062494    </td><td>1010518     </td><td> 1056155    </td></tr>\n",
       "\t<tr><td>-37303516453</td><td>1351158     </td><td>  232719    </td><td> 2306346    </td><td>2151539     </td><td> 2294317    </td></tr>\n",
       "\t<tr><td>-73279673433</td><td>1751035     </td><td>  407488    </td><td> 3198834    </td><td>3512867     </td><td> 3184476    </td></tr>\n",
       "\t<tr><td>-27711340338</td><td>1273910     </td><td>  274924    </td><td> 2414448    </td><td>2342308     </td><td> 2402234    </td></tr>\n",
       "\t<tr><td> 18240471849</td><td> 983497     </td><td>  241617    </td><td> 1937308    </td><td>1758486     </td><td> 1930637    </td></tr>\n",
       "\t<tr><td>           0</td><td> 642903     </td><td>  142121    </td><td> 1339433    </td><td>5118444     </td><td> 1306479    </td></tr>\n",
       "\t<tr><td> -8969797070</td><td> 975317     </td><td>  127973    </td><td> 1708722    </td><td>1849612     </td><td> 1696435    </td></tr>\n",
       "\t<tr><td>⋮</td><td>⋮</td><td>⋮</td><td>⋮</td><td>⋮</td><td>⋮</td></tr>\n",
       "\t<tr><td>-26977524059</td><td>1405406     </td><td>  208817    </td><td> 2418399    </td><td>2546238     </td><td> 2392042    </td></tr>\n",
       "\t<tr><td> 60722968748</td><td> 238843     </td><td>  152204    </td><td> 1024769    </td><td> 988453     </td><td> 1017394    </td></tr>\n",
       "\t<tr><td>           0</td><td>1062580     </td><td>38905004    </td><td>44325670    </td><td>5898167     </td><td>44304793    </td></tr>\n",
       "\t<tr><td> 19473934278</td><td>1472542     </td><td> 1688767    </td><td> 3908470    </td><td>2490060     </td><td> 3896468    </td></tr>\n",
       "\t<tr><td> 56497349126</td><td> 710120     </td><td>  188179    </td><td> 1374659    </td><td>1341511     </td><td> 1367406    </td></tr>\n",
       "\t<tr><td> 10940173613</td><td>1219313     </td><td>  165208    </td><td> 2151269    </td><td>2286219     </td><td> 2120173    </td></tr>\n",
       "\t<tr><td> 98639839072</td><td> 238625     </td><td>  140844    </td><td>  908355    </td><td> 851133     </td><td>  902412    </td></tr>\n",
       "\t<tr><td> 55987258487</td><td>1156803     </td><td>  230371    </td><td> 2553730    </td><td>2413569     </td><td> 2543915    </td></tr>\n",
       "\t<tr><td> 95971714552</td><td> 732352     </td><td>  136472    </td><td> 1404259    </td><td>1407969     </td><td> 1394633    </td></tr>\n",
       "\t<tr><td> 47389610998</td><td> 869457     </td><td>  172761    </td><td> 3313216    </td><td>3256692     </td><td> 3304325    </td></tr>\n",
       "\t<tr><td> 37393152481</td><td>1394575     </td><td>  324140    </td><td> 2491933    </td><td>2272790     </td><td> 2480360    </td></tr>\n",
       "\t<tr><td> 93385616396</td><td> 641983     </td><td>  129572    </td><td> 1273626    </td><td>1239052     </td><td> 1249055    </td></tr>\n",
       "\t<tr><td> 92938380604</td><td> 769307     </td><td>  219327    </td><td> 1535200    </td><td>1341962     </td><td> 1528034    </td></tr>\n",
       "\t<tr><td> 75194157292</td><td> 450859     </td><td>  182468    </td><td> 1072927    </td><td>1010733     </td><td> 1041973    </td></tr>\n",
       "\t<tr><td> 46986126789</td><td> 998950     </td><td>  212672    </td><td> 1997389    </td><td>1865455     </td><td> 1989317    </td></tr>\n",
       "\t<tr><td> 19961587436</td><td>1206769     </td><td>  163094    </td><td> 2123187    </td><td>2330145     </td><td> 2111645    </td></tr>\n",
       "\t<tr><td> 65632456532</td><td> 882891     </td><td>  202712    </td><td> 1718981    </td><td>1613365     </td><td> 1711794    </td></tr>\n",
       "\t<tr><td> 83896746173</td><td> 857176     </td><td>  226079    </td><td> 1749317    </td><td>1539250     </td><td> 1722486    </td></tr>\n",
       "\t<tr><td> 66194106072</td><td> 464351     </td><td>  153034    </td><td> 1066428    </td><td>1018585     </td><td> 1058919    </td></tr>\n",
       "\t<tr><td>  1417215918</td><td>2357698     </td><td>  426230    </td><td> 3752167    </td><td>3865529     </td><td> 3735602    </td></tr>\n",
       "\t<tr><td> 10505829605</td><td>1602770     </td><td>  241348    </td><td> 2740113    </td><td>2861723     </td><td> 2717167    </td></tr>\n",
       "\t<tr><td> 74697787215</td><td> 873656     </td><td>  221709    </td><td> 1638264    </td><td>1489551     </td><td> 1631249    </td></tr>\n",
       "\t<tr><td>  1725705727</td><td>1575971     </td><td>  505090    </td><td> 2932321    </td><td>2757419     </td><td> 2910479    </td></tr>\n",
       "\t<tr><td>  1179126184</td><td>2351969     </td><td>  407401    </td><td> 3875963    </td><td>4099211     </td><td> 3859577    </td></tr>\n",
       "\t<tr><td> 28946451874</td><td> 876384     </td><td>  164272    </td><td> 1608198    </td><td>1674217     </td><td> 1595311    </td></tr>\n",
       "\t<tr><td>   783455461</td><td>1305639     </td><td>  503512    </td><td> 3070333    </td><td>3135668     </td><td> 3041736    </td></tr>\n",
       "\t<tr><td> 37916376383</td><td> 917606     </td><td>  129840    </td><td> 1733356    </td><td>1775125     </td><td> 1702881    </td></tr>\n",
       "\t<tr><td> 84321808826</td><td> 698331     </td><td>  124139    </td><td> 1297829    </td><td>1278384     </td><td> 1290394    </td></tr>\n",
       "\t<tr><td>101117949055</td><td>  95270     </td><td>  170691    </td><td>  714693    </td><td> 646100     </td><td>  707449    </td></tr>\n",
       "\t<tr><td> 28443316116</td><td>1257144     </td><td>  254058    </td><td> 2392488    </td><td>2412551     </td><td> 2380125    </td></tr>\n",
       "</tbody>\n",
       "</table>\n"
      ],
      "text/latex": [
       "\\begin{tabular}{r|llllll}\n",
       " date & configuration.time & model.update & reaction.time & privacy.update & total.processing\\\\\n",
       "\\hline\n",
       "\t            0 &  640355      &   217731     &  1368427     & 1186864      &  1361646    \\\\\n",
       "\t  -9066705243 & 1035271      &   201685     &  1984776     & 1902763      &  1965132    \\\\\n",
       "\t   9198887186 & 1039417      &   227506     &  2045696     & 1903676      &  2020761    \\\\\n",
       "\t -36780952966 & 1109404      &   129883     &  1830844     & 1885948      &  1818012    \\\\\n",
       "\t -64191104704 & 1761982      &   305432     &  2959209     & 3621852      &  2943810    \\\\\n",
       "\t -54735715837 &  890192      &   149251     &  1613712     & 1683025      &  1589134    \\\\\n",
       "\t   9623920433 &  568235      &   152744     &  1139131     & 1073351      &  1132291    \\\\\n",
       "\t -72971278694 & 1668538      &   568879     &  2923693     & 2585814      &  2874840    \\\\\n",
       "\t -46253956438 & 1240904      &   222090     &  2402883     & 2585361      &  2367189    \\\\\n",
       "\t -73516095282 & 2272812      &   361798     &  3643514     & 4024472      &  3629378    \\\\\n",
       "\t -18710384364 &  991110      &   312006     &  2262017     & 2005951      &  2232782    \\\\\n",
       "\t -18200342494 &  734290      &   159434     &  1366346     & 1363885      &  1359297    \\\\\n",
       "\t -45750682190 & 1031419      &   140927     &  1954517     & 2008979      &  1941676    \\\\\n",
       "\t -55223252127 & 1492303      &   329621     &  2551712     & 2479136      &  2535912    \\\\\n",
       "\t  18687652951 &  635953      &   161860     &  1260488     & 1198002      &  1241863    \\\\\n",
       "\t -27307962890 &  620548      &   143874     &  2428359     & 2417140      &  2416372    \\\\\n",
       "\t -73911985502 & 2606598      &   538468     &  4130767     & 3870770      &  4113921    \\\\\n",
       "\t  21275267531 &  641294      &   139523     &  1255038     & 1219723      &  1248766    \\\\\n",
       "\t  26419990376 &   96905      &   173143     &   662379     &  546090      &   644720    \\\\\n",
       "\t  23943459460 &  296444      &   123350     &   897739     &  897393      &   891206    \\\\\n",
       "\t -74693842056 & 1291804      & 36871215     & 42706824     & 6307880      & 42684425    \\\\\n",
       "\t -63757060722 & 1566782      &   196336     &  2556751     & 2698827      &  2527376    \\\\\n",
       "\t    496313426 &  471296      &   170240     &  2200394     & 2097995      &  2170123    \\\\\n",
       "\t  -8503613545 &  470450      &   160416     &  1062494     & 1010518      &  1056155    \\\\\n",
       "\t -37303516453 & 1351158      &   232719     &  2306346     & 2151539      &  2294317    \\\\\n",
       "\t -73279673433 & 1751035      &   407488     &  3198834     & 3512867      &  3184476    \\\\\n",
       "\t -27711340338 & 1273910      &   274924     &  2414448     & 2342308      &  2402234    \\\\\n",
       "\t  18240471849 &  983497      &   241617     &  1937308     & 1758486      &  1930637    \\\\\n",
       "\t            0 &  642903      &   142121     &  1339433     & 5118444      &  1306479    \\\\\n",
       "\t  -8969797070 &  975317      &   127973     &  1708722     & 1849612      &  1696435    \\\\\n",
       "\t ⋮ & ⋮ & ⋮ & ⋮ & ⋮ & ⋮\\\\\n",
       "\t -26977524059 & 1405406      &   208817     &  2418399     & 2546238      &  2392042    \\\\\n",
       "\t  60722968748 &  238843      &   152204     &  1024769     &  988453      &  1017394    \\\\\n",
       "\t            0 & 1062580      & 38905004     & 44325670     & 5898167      & 44304793    \\\\\n",
       "\t  19473934278 & 1472542      &  1688767     &  3908470     & 2490060      &  3896468    \\\\\n",
       "\t  56497349126 &  710120      &   188179     &  1374659     & 1341511      &  1367406    \\\\\n",
       "\t  10940173613 & 1219313      &   165208     &  2151269     & 2286219      &  2120173    \\\\\n",
       "\t  98639839072 &  238625      &   140844     &   908355     &  851133      &   902412    \\\\\n",
       "\t  55987258487 & 1156803      &   230371     &  2553730     & 2413569      &  2543915    \\\\\n",
       "\t  95971714552 &  732352      &   136472     &  1404259     & 1407969      &  1394633    \\\\\n",
       "\t  47389610998 &  869457      &   172761     &  3313216     & 3256692      &  3304325    \\\\\n",
       "\t  37393152481 & 1394575      &   324140     &  2491933     & 2272790      &  2480360    \\\\\n",
       "\t  93385616396 &  641983      &   129572     &  1273626     & 1239052      &  1249055    \\\\\n",
       "\t  92938380604 &  769307      &   219327     &  1535200     & 1341962      &  1528034    \\\\\n",
       "\t  75194157292 &  450859      &   182468     &  1072927     & 1010733      &  1041973    \\\\\n",
       "\t  46986126789 &  998950      &   212672     &  1997389     & 1865455      &  1989317    \\\\\n",
       "\t  19961587436 & 1206769      &   163094     &  2123187     & 2330145      &  2111645    \\\\\n",
       "\t  65632456532 &  882891      &   202712     &  1718981     & 1613365      &  1711794    \\\\\n",
       "\t  83896746173 &  857176      &   226079     &  1749317     & 1539250      &  1722486    \\\\\n",
       "\t  66194106072 &  464351      &   153034     &  1066428     & 1018585      &  1058919    \\\\\n",
       "\t   1417215918 & 2357698      &   426230     &  3752167     & 3865529      &  3735602    \\\\\n",
       "\t  10505829605 & 1602770      &   241348     &  2740113     & 2861723      &  2717167    \\\\\n",
       "\t  74697787215 &  873656      &   221709     &  1638264     & 1489551      &  1631249    \\\\\n",
       "\t   1725705727 & 1575971      &   505090     &  2932321     & 2757419      &  2910479    \\\\\n",
       "\t   1179126184 & 2351969      &   407401     &  3875963     & 4099211      &  3859577    \\\\\n",
       "\t  28946451874 &  876384      &   164272     &  1608198     & 1674217      &  1595311    \\\\\n",
       "\t    783455461 & 1305639      &   503512     &  3070333     & 3135668      &  3041736    \\\\\n",
       "\t  37916376383 &  917606      &   129840     &  1733356     & 1775125      &  1702881    \\\\\n",
       "\t  84321808826 &  698331      &   124139     &  1297829     & 1278384      &  1290394    \\\\\n",
       "\t 101117949055 &   95270      &   170691     &   714693     &  646100      &   707449    \\\\\n",
       "\t  28443316116 & 1257144      &   254058     &  2392488     & 2412551      &  2380125    \\\\\n",
       "\\end{tabular}\n"
      ],
      "text/markdown": [
       "\n",
       "date | configuration.time | model.update | reaction.time | privacy.update | total.processing | \n",
       "|---|---|---|---|---|---|---|---|---|---|---|---|---|---|---|---|---|---|---|---|---|---|---|---|---|---|---|---|---|---|---|---|---|---|---|---|---|---|---|---|---|---|---|---|---|---|---|---|---|---|---|---|---|---|---|---|---|---|---|---|---|\n",
       "|            0 |  640355      |   217731     |  1368427     | 1186864      |  1361646     | \n",
       "|  -9066705243 | 1035271      |   201685     |  1984776     | 1902763      |  1965132     | \n",
       "|   9198887186 | 1039417      |   227506     |  2045696     | 1903676      |  2020761     | \n",
       "| -36780952966 | 1109404      |   129883     |  1830844     | 1885948      |  1818012     | \n",
       "| -64191104704 | 1761982      |   305432     |  2959209     | 3621852      |  2943810     | \n",
       "| -54735715837 |  890192      |   149251     |  1613712     | 1683025      |  1589134     | \n",
       "|   9623920433 |  568235      |   152744     |  1139131     | 1073351      |  1132291     | \n",
       "| -72971278694 | 1668538      |   568879     |  2923693     | 2585814      |  2874840     | \n",
       "| -46253956438 | 1240904      |   222090     |  2402883     | 2585361      |  2367189     | \n",
       "| -73516095282 | 2272812      |   361798     |  3643514     | 4024472      |  3629378     | \n",
       "| -18710384364 |  991110      |   312006     |  2262017     | 2005951      |  2232782     | \n",
       "| -18200342494 |  734290      |   159434     |  1366346     | 1363885      |  1359297     | \n",
       "| -45750682190 | 1031419      |   140927     |  1954517     | 2008979      |  1941676     | \n",
       "| -55223252127 | 1492303      |   329621     |  2551712     | 2479136      |  2535912     | \n",
       "|  18687652951 |  635953      |   161860     |  1260488     | 1198002      |  1241863     | \n",
       "| -27307962890 |  620548      |   143874     |  2428359     | 2417140      |  2416372     | \n",
       "| -73911985502 | 2606598      |   538468     |  4130767     | 3870770      |  4113921     | \n",
       "|  21275267531 |  641294      |   139523     |  1255038     | 1219723      |  1248766     | \n",
       "|  26419990376 |   96905      |   173143     |   662379     |  546090      |   644720     | \n",
       "|  23943459460 |  296444      |   123350     |   897739     |  897393      |   891206     | \n",
       "| -74693842056 | 1291804      | 36871215     | 42706824     | 6307880      | 42684425     | \n",
       "| -63757060722 | 1566782      |   196336     |  2556751     | 2698827      |  2527376     | \n",
       "|    496313426 |  471296      |   170240     |  2200394     | 2097995      |  2170123     | \n",
       "|  -8503613545 |  470450      |   160416     |  1062494     | 1010518      |  1056155     | \n",
       "| -37303516453 | 1351158      |   232719     |  2306346     | 2151539      |  2294317     | \n",
       "| -73279673433 | 1751035      |   407488     |  3198834     | 3512867      |  3184476     | \n",
       "| -27711340338 | 1273910      |   274924     |  2414448     | 2342308      |  2402234     | \n",
       "|  18240471849 |  983497      |   241617     |  1937308     | 1758486      |  1930637     | \n",
       "|            0 |  642903      |   142121     |  1339433     | 5118444      |  1306479     | \n",
       "|  -8969797070 |  975317      |   127973     |  1708722     | 1849612      |  1696435     | \n",
       "| ⋮ | ⋮ | ⋮ | ⋮ | ⋮ | ⋮ | \n",
       "| -26977524059 | 1405406      |   208817     |  2418399     | 2546238      |  2392042     | \n",
       "|  60722968748 |  238843      |   152204     |  1024769     |  988453      |  1017394     | \n",
       "|            0 | 1062580      | 38905004     | 44325670     | 5898167      | 44304793     | \n",
       "|  19473934278 | 1472542      |  1688767     |  3908470     | 2490060      |  3896468     | \n",
       "|  56497349126 |  710120      |   188179     |  1374659     | 1341511      |  1367406     | \n",
       "|  10940173613 | 1219313      |   165208     |  2151269     | 2286219      |  2120173     | \n",
       "|  98639839072 |  238625      |   140844     |   908355     |  851133      |   902412     | \n",
       "|  55987258487 | 1156803      |   230371     |  2553730     | 2413569      |  2543915     | \n",
       "|  95971714552 |  732352      |   136472     |  1404259     | 1407969      |  1394633     | \n",
       "|  47389610998 |  869457      |   172761     |  3313216     | 3256692      |  3304325     | \n",
       "|  37393152481 | 1394575      |   324140     |  2491933     | 2272790      |  2480360     | \n",
       "|  93385616396 |  641983      |   129572     |  1273626     | 1239052      |  1249055     | \n",
       "|  92938380604 |  769307      |   219327     |  1535200     | 1341962      |  1528034     | \n",
       "|  75194157292 |  450859      |   182468     |  1072927     | 1010733      |  1041973     | \n",
       "|  46986126789 |  998950      |   212672     |  1997389     | 1865455      |  1989317     | \n",
       "|  19961587436 | 1206769      |   163094     |  2123187     | 2330145      |  2111645     | \n",
       "|  65632456532 |  882891      |   202712     |  1718981     | 1613365      |  1711794     | \n",
       "|  83896746173 |  857176      |   226079     |  1749317     | 1539250      |  1722486     | \n",
       "|  66194106072 |  464351      |   153034     |  1066428     | 1018585      |  1058919     | \n",
       "|   1417215918 | 2357698      |   426230     |  3752167     | 3865529      |  3735602     | \n",
       "|  10505829605 | 1602770      |   241348     |  2740113     | 2861723      |  2717167     | \n",
       "|  74697787215 |  873656      |   221709     |  1638264     | 1489551      |  1631249     | \n",
       "|   1725705727 | 1575971      |   505090     |  2932321     | 2757419      |  2910479     | \n",
       "|   1179126184 | 2351969      |   407401     |  3875963     | 4099211      |  3859577     | \n",
       "|  28946451874 |  876384      |   164272     |  1608198     | 1674217      |  1595311     | \n",
       "|    783455461 | 1305639      |   503512     |  3070333     | 3135668      |  3041736     | \n",
       "|  37916376383 |  917606      |   129840     |  1733356     | 1775125      |  1702881     | \n",
       "|  84321808826 |  698331      |   124139     |  1297829     | 1278384      |  1290394     | \n",
       "| 101117949055 |   95270      |   170691     |   714693     |  646100      |   707449     | \n",
       "|  28443316116 | 1257144      |   254058     |  2392488     | 2412551      |  2380125     | \n",
       "\n",
       "\n"
      ],
      "text/plain": [
       "    date         configuration.time model.update reaction.time privacy.update\n",
       "1              0  640355              217731      1368427      1186864       \n",
       "2    -9066705243 1035271              201685      1984776      1902763       \n",
       "3     9198887186 1039417              227506      2045696      1903676       \n",
       "4   -36780952966 1109404              129883      1830844      1885948       \n",
       "5   -64191104704 1761982              305432      2959209      3621852       \n",
       "6   -54735715837  890192              149251      1613712      1683025       \n",
       "7     9623920433  568235              152744      1139131      1073351       \n",
       "8   -72971278694 1668538              568879      2923693      2585814       \n",
       "9   -46253956438 1240904              222090      2402883      2585361       \n",
       "10  -73516095282 2272812              361798      3643514      4024472       \n",
       "11  -18710384364  991110              312006      2262017      2005951       \n",
       "12  -18200342494  734290              159434      1366346      1363885       \n",
       "13  -45750682190 1031419              140927      1954517      2008979       \n",
       "14  -55223252127 1492303              329621      2551712      2479136       \n",
       "15   18687652951  635953              161860      1260488      1198002       \n",
       "16  -27307962890  620548              143874      2428359      2417140       \n",
       "17  -73911985502 2606598              538468      4130767      3870770       \n",
       "18   21275267531  641294              139523      1255038      1219723       \n",
       "19   26419990376   96905              173143       662379       546090       \n",
       "20   23943459460  296444              123350       897739       897393       \n",
       "21  -74693842056 1291804            36871215     42706824      6307880       \n",
       "22  -63757060722 1566782              196336      2556751      2698827       \n",
       "23     496313426  471296              170240      2200394      2097995       \n",
       "24   -8503613545  470450              160416      1062494      1010518       \n",
       "25  -37303516453 1351158              232719      2306346      2151539       \n",
       "26  -73279673433 1751035              407488      3198834      3512867       \n",
       "27  -27711340338 1273910              274924      2414448      2342308       \n",
       "28   18240471849  983497              241617      1937308      1758486       \n",
       "29             0  642903              142121      1339433      5118444       \n",
       "30   -8969797070  975317              127973      1708722      1849612       \n",
       "⋮   ⋮            ⋮                  ⋮            ⋮             ⋮             \n",
       "111 -26977524059 1405406              208817      2418399      2546238       \n",
       "112  60722968748  238843              152204      1024769       988453       \n",
       "113            0 1062580            38905004     44325670      5898167       \n",
       "114  19473934278 1472542             1688767      3908470      2490060       \n",
       "115  56497349126  710120              188179      1374659      1341511       \n",
       "116  10940173613 1219313              165208      2151269      2286219       \n",
       "117  98639839072  238625              140844       908355       851133       \n",
       "118  55987258487 1156803              230371      2553730      2413569       \n",
       "119  95971714552  732352              136472      1404259      1407969       \n",
       "120  47389610998  869457              172761      3313216      3256692       \n",
       "121  37393152481 1394575              324140      2491933      2272790       \n",
       "122  93385616396  641983              129572      1273626      1239052       \n",
       "123  92938380604  769307              219327      1535200      1341962       \n",
       "124  75194157292  450859              182468      1072927      1010733       \n",
       "125  46986126789  998950              212672      1997389      1865455       \n",
       "126  19961587436 1206769              163094      2123187      2330145       \n",
       "127  65632456532  882891              202712      1718981      1613365       \n",
       "128  83896746173  857176              226079      1749317      1539250       \n",
       "129  66194106072  464351              153034      1066428      1018585       \n",
       "130   1417215918 2357698              426230      3752167      3865529       \n",
       "131  10505829605 1602770              241348      2740113      2861723       \n",
       "132  74697787215  873656              221709      1638264      1489551       \n",
       "133   1725705727 1575971              505090      2932321      2757419       \n",
       "134   1179126184 2351969              407401      3875963      4099211       \n",
       "135  28946451874  876384              164272      1608198      1674217       \n",
       "136    783455461 1305639              503512      3070333      3135668       \n",
       "137  37916376383  917606              129840      1733356      1775125       \n",
       "138  84321808826  698331              124139      1297829      1278384       \n",
       "139 101117949055   95270              170691       714693       646100       \n",
       "140  28443316116 1257144              254058      2392488      2412551       \n",
       "    total.processing\n",
       "1    1361646        \n",
       "2    1965132        \n",
       "3    2020761        \n",
       "4    1818012        \n",
       "5    2943810        \n",
       "6    1589134        \n",
       "7    1132291        \n",
       "8    2874840        \n",
       "9    2367189        \n",
       "10   3629378        \n",
       "11   2232782        \n",
       "12   1359297        \n",
       "13   1941676        \n",
       "14   2535912        \n",
       "15   1241863        \n",
       "16   2416372        \n",
       "17   4113921        \n",
       "18   1248766        \n",
       "19    644720        \n",
       "20    891206        \n",
       "21  42684425        \n",
       "22   2527376        \n",
       "23   2170123        \n",
       "24   1056155        \n",
       "25   2294317        \n",
       "26   3184476        \n",
       "27   2402234        \n",
       "28   1930637        \n",
       "29   1306479        \n",
       "30   1696435        \n",
       "⋮   ⋮               \n",
       "111  2392042        \n",
       "112  1017394        \n",
       "113 44304793        \n",
       "114  3896468        \n",
       "115  1367406        \n",
       "116  2120173        \n",
       "117   902412        \n",
       "118  2543915        \n",
       "119  1394633        \n",
       "120  3304325        \n",
       "121  2480360        \n",
       "122  1249055        \n",
       "123  1528034        \n",
       "124  1041973        \n",
       "125  1989317        \n",
       "126  2111645        \n",
       "127  1711794        \n",
       "128  1722486        \n",
       "129  1058919        \n",
       "130  3735602        \n",
       "131  2717167        \n",
       "132  1631249        \n",
       "133  2910479        \n",
       "134  3859577        \n",
       "135  1595311        \n",
       "136  3041736        \n",
       "137  1702881        \n",
       "138  1290394        \n",
       "139   707449        \n",
       "140  2380125        "
      ]
     },
     "metadata": {},
     "output_type": "display_data"
    }
   ],
   "source": [
    "data = read.csv(sprintf(\"jss-result-%d.csv\", 0))\n",
    "\n",
    "for (loop in 1:4) {\n",
    "    input = read.csv(sprintf(\"jss-result-%d.csv\", loop))\n",
    "    data <- rbind(data, input)\n",
    "}\n",
    "\n",
    "length(data[,1])\n",
    "\n",
    "data"
   ]
  },
  {
   "cell_type": "markdown",
   "metadata": {},
   "source": [
    "## Load plot libraries and define common R functions"
   ]
  },
  {
   "cell_type": "code",
   "execution_count": 12,
   "metadata": {},
   "outputs": [],
   "source": [
    "library(ggplot2)\n",
    "library(magrittr)\n",
    "library(ggpubr)\n",
    "library(repr)\n",
    "\n",
    "plotFunc <- function(input, column, label, upperLimit, shape) {\n",
    "    col <- input[,column]\n",
    "    return (ggplot(input, aes (y=col, x=\"\")) + geom_boxplot(outlier.shape = shape) + ylab(\"Time [ns]\") + xlab(label) + ylim(0,upperLimit))\n",
    "}\n",
    "\n",
    "plotAll <- function(data, upperlimit, shape){\n",
    "    plots <- list()\n",
    "\n",
    "    i <- 1\n",
    "    for (label in colnames(data)) {\n",
    "        if ( i > 1 ) {\n",
    "            label <- gsub(\"[.]\", \" \",label)\n",
    "            plots[[i-1]] <- plotFunc(data,i,label,upperLimit, shape)\n",
    "        }\n",
    "        i <- i + 1\n",
    "    }\n",
    "\n",
    "    ggarrange(plotlist=plots, ncol = length(plots), nrow = 1)\n",
    "}\n",
    "\n",
    "options(repr.plot.height=3)"
   ]
  },
  {
   "cell_type": "markdown",
   "metadata": {},
   "source": [
    "## Measurements"
   ]
  },
  {
   "cell_type": "code",
   "execution_count": 13,
   "metadata": {
    "scrolled": false
   },
   "outputs": [
    {
     "data": {},
     "metadata": {},
     "output_type": "display_data"
    },
    {
     "data": {
      "image/png": "[encoded data removed]",
      "text/plain": [
       "plot without title"
      ]
     },
     "metadata": {},
     "output_type": "display_data"
    }
   ],
   "source": [
    "upperLimit <- max(data[,\"total.processing\"],data[,\"reaction.time\"])\n",
    "\n",
    "plotAll(data,upperLimit, 16)"
   ]
  },
  {
   "cell_type": "markdown",
   "metadata": {},
   "source": [
    "Measurements over Time"
   ]
  },
  {
   "cell_type": "code",
   "execution_count": 14,
   "metadata": {
    "scrolled": true
   },
   "outputs": [
    {
     "data": {},
     "metadata": {},
     "output_type": "display_data"
    },
    {
     "data": {
      "image/png": "[encoded data removed]",
      "text/plain": [
       "plot without title"
      ]
     },
     "metadata": {},
     "output_type": "display_data"
    }
   ],
   "source": [
    "library(reshape2)\n",
    "\n",
    "plotData <- data\n",
    "plotData[,\"date\"] <- plotData[,\"date\"]/1000/1000/1000\n",
    "\n",
    "allColumns <- colnames(data)\n",
    "measureColumns <- allColumns[2:length(allColumns)]\n",
    "\n",
    "ggData <- melt(plotData, id.vars = \"date\", measure.vars = measureColumns)\n",
    "\n",
    "ggplot(ggData, aes(x=date, y=value, linetype = variable, color = variable)) + geom_line() + xlab(\"Runtime\") + ylab(\"Execution Time\")"
   ]
  },
  {
   "cell_type": "markdown",
   "metadata": {},
   "source": [
    "## Measurements without depicting outliers"
   ]
  },
  {
   "cell_type": "code",
   "execution_count": 15,
   "metadata": {
    "scrolled": true
   },
   "outputs": [
    {
     "name": "stderr",
     "output_type": "stream",
     "text": [
      "Warning message:\n",
      "“Removed 6 rows containing non-finite values (stat_boxplot).”Warning message:\n",
      "“Removed 18 rows containing non-finite values (stat_boxplot).”Warning message:\n",
      "“Removed 20 rows containing non-finite values (stat_boxplot).”Warning message:\n",
      "“Removed 18 rows containing non-finite values (stat_boxplot).”"
     ]
    },
    {
     "data": {},
     "metadata": {},
     "output_type": "display_data"
    },
    {
     "data": {
      "image/png": "[encoded data removed]",
      "text/plain": [
       "plot without title"
      ]
     },
     "metadata": {},
     "output_type": "display_data"
    }
   ],
   "source": [
    "upperLimit <- 3500000\n",
    "\n",
    "plotAll(data, upperLimit, NA)"
   ]
  },
  {
   "cell_type": "code",
   "execution_count": 16,
   "metadata": {},
   "outputs": [
    {
     "data": {
      "text/html": [
       "<table>\n",
       "<thead><tr><th scope=col>measurement</th><th scope=col>mean</th><th scope=col>median</th><th scope=col>variance</th></tr></thead>\n",
       "<tbody>\n",
       "\t<tr><td>date              </td><td>10079.917093      </td><td>9473.035810       </td><td>1.748378e+09      </td></tr>\n",
       "\t<tr><td>configuration time</td><td>    1.114408      </td><td>   1.006728       </td><td>3.337152e-01      </td></tr>\n",
       "\t<tr><td>model update      </td><td>    1.701697      </td><td>   0.212518       </td><td>5.447072e+01      </td></tr>\n",
       "\t<tr><td>reaction time     </td><td>    3.836044      </td><td>   2.124461       </td><td>6.827913e+01      </td></tr>\n",
       "\t<tr><td>privacy update    </td><td>    2.388042      </td><td>   2.012293       </td><td>2.642410e+00      </td></tr>\n",
       "\t<tr><td>total processing  </td><td>    3.817046      </td><td>   2.105523       </td><td>6.823182e+01      </td></tr>\n",
       "</tbody>\n",
       "</table>\n"
      ],
      "text/latex": [
       "\\begin{tabular}{r|llll}\n",
       " measurement & mean & median & variance\\\\\n",
       "\\hline\n",
       "\t date               & 10079.917093       & 9473.035810        & 1.748378e+09      \\\\\n",
       "\t configuration time &     1.114408       &    1.006728        & 3.337152e-01      \\\\\n",
       "\t model update       &     1.701697       &    0.212518        & 5.447072e+01      \\\\\n",
       "\t reaction time      &     3.836044       &    2.124461        & 6.827913e+01      \\\\\n",
       "\t privacy update     &     2.388042       &    2.012293        & 2.642410e+00      \\\\\n",
       "\t total processing   &     3.817046       &    2.105523        & 6.823182e+01      \\\\\n",
       "\\end{tabular}\n"
      ],
      "text/markdown": [
       "\n",
       "measurement | mean | median | variance | \n",
       "|---|---|---|---|---|---|\n",
       "| date               | 10079.917093       | 9473.035810        | 1.748378e+09       | \n",
       "| configuration time |     1.114408       |    1.006728        | 3.337152e-01       | \n",
       "| model update       |     1.701697       |    0.212518        | 5.447072e+01       | \n",
       "| reaction time      |     3.836044       |    2.124461        | 6.827913e+01       | \n",
       "| privacy update     |     2.388042       |    2.012293        | 2.642410e+00       | \n",
       "| total processing   |     3.817046       |    2.105523        | 6.823182e+01       | \n",
       "\n",
       "\n"
      ],
      "text/plain": [
       "  measurement        mean         median      variance    \n",
       "1 date               10079.917093 9473.035810 1.748378e+09\n",
       "2 configuration time     1.114408    1.006728 3.337152e-01\n",
       "3 model update           1.701697    0.212518 5.447072e+01\n",
       "4 reaction time          3.836044    2.124461 6.827913e+01\n",
       "5 privacy update         2.388042    2.012293 2.642410e+00\n",
       "6 total processing       3.817046    2.105523 6.823182e+01"
      ]
     },
     "metadata": {},
     "output_type": "display_data"
    }
   ],
   "source": [
    "label.vals <- c()\n",
    "mean.vals <- c()\n",
    "median.vals <- c()\n",
    "var.vals <- c()\n",
    "\n",
    "unit.conversion <- 1000 * 1000\n",
    "\n",
    "i <- 1\n",
    "for (label in colnames(data)) {\n",
    "    label.vals[[i]] <- gsub(\"[.]\", \" \",label)\n",
    "    input <- data[,i] / unit.conversion\n",
    "    median.vals[[i]] <- median(input)\n",
    "    mean.vals[[i]] <- mean(input)\n",
    "    var.vals[[i]] <- var(input)\n",
    "    i <- i + 1\n",
    "}\n",
    "\n",
    "result <- data.frame(\"measurement\" = label.vals, \"mean\" = mean.vals, \"median\" = median.vals, \"variance\" = var.vals)\n",
    "\n",
    "result"
   ]
  },
  {
   "cell_type": "markdown",
   "metadata": {},
   "source": [
    "All values are in milli seconds.\n",
    "* _Total processing_ time is the sum of _privacy update_ time and _model update_ time\n",
    "* _Reaction time_ includes _configuration time_ and _total processing_ time. Still it is lower than _configuration time_ plus _total processing_ time, as the filters for _privacy update_, _model update_ and _configuration_ run in separate threads."
   ]
  },
  {
   "cell_type": "code",
   "execution_count": null,
   "metadata": {},
   "outputs": [],
   "source": []
  },
  {
   "cell_type": "code",
   "execution_count": null,
   "metadata": {},
   "outputs": [],
   "source": []
  },
  {
   "cell_type": "code",
   "execution_count": null,
   "metadata": {},
   "outputs": [],
   "source": []
  }
 ],
 "metadata": {
  "kernelspec": {
   "display_name": "R",
   "language": "R",
   "name": "ir"
  },
  "language_info": {
   "codemirror_mode": "r",
   "file_extension": ".r",
   "mimetype": "text/x-r-source",
   "name": "R",
   "pygments_lexer": "r",
   "version": "3.4.4"
  }
 },
 "nbformat": 4,
 "nbformat_minor": 2
}
